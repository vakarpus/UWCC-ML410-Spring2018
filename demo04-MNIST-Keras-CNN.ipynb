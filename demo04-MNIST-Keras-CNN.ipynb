{
 "cells": [
  {
   "cell_type": "markdown",
   "metadata": {
    "colab_type": "text",
    "id": "JguZ3NBZUkpo",
    "nbpresent": {
     "id": "cb330d54-186f-4a08-8586-4ebf1d278bb6"
    },
    "slideshow": {
     "slide_type": "slide"
    }
   },
   "source": [
    "# Convolutional Neural Networks \n",
    "* CNNs - very common model/topology for image classification problem\n",
    "* Let's use MNIST again\n",
    "* Original Keras tutorial is here: https://github.com/fchollet/deep-learning-with-python-notebooks/blob/master/5.1-introduction-to-convnets.ipynb"
   ]
  },
  {
   "cell_type": "code",
   "execution_count": 1,
   "metadata": {
    "colab": {
     "autoexec": {
      "startup": false,
      "wait_interval": 0
     }
    },
    "colab_type": "code",
    "id": "qWT31nsxURdJ",
    "nbpresent": {
     "id": "9017504c-8224-42c7-a921-fde25e87f4b8"
    },
    "scrolled": true
   },
   "outputs": [
    {
     "name": "stdout",
     "output_type": "stream",
     "text": [
      "Thu May 17 22:50:59 UTC 2018\n",
      "smallDLVM1\n",
      "Collecting tensorflow==1.8.0\n",
      "  Using cached https://files.pythonhosted.org/packages/6d/dc/464f59597a5a8282585238e6e3a7bb3770c3c1f1dc8ee72bd5be257178ec/tensorflow-1.8.0-cp35-cp35m-manylinux1_x86_64.whl\n",
      "Collecting absl-py>=0.1.6 (from tensorflow==1.8.0)\n",
      "Collecting protobuf>=3.4.0 (from tensorflow==1.8.0)\n",
      "  Using cached https://files.pythonhosted.org/packages/5b/c3/9b947e301e19bea75dc8c1fd3710eed5d2b31aa13ae13d5e38e891f784cc/protobuf-3.5.2.post1-cp35-cp35m-manylinux1_x86_64.whl\n",
      "Collecting six>=1.10.0 (from tensorflow==1.8.0)\n",
      "  Using cached https://files.pythonhosted.org/packages/67/4b/141a581104b1f6397bfa78ac9d43d8ad29a7ca43ea90a2d863fe3056e86a/six-1.11.0-py2.py3-none-any.whl\n",
      "Collecting wheel>=0.26 (from tensorflow==1.8.0)\n",
      "  Using cached https://files.pythonhosted.org/packages/81/30/e935244ca6165187ae8be876b6316ae201b71485538ffac1d718843025a9/wheel-0.31.1-py2.py3-none-any.whl\n",
      "Collecting numpy>=1.13.3 (from tensorflow==1.8.0)\n",
      "  Using cached https://files.pythonhosted.org/packages/7b/61/11b05cc37ccdaabad89f04dbdc2a02905cf6de6f9b05816dba843beed328/numpy-1.14.3-cp35-cp35m-manylinux1_x86_64.whl\n",
      "Collecting astor>=0.6.0 (from tensorflow==1.8.0)\n",
      "  Using cached https://files.pythonhosted.org/packages/b2/91/cc9805f1ff7b49f620136b3a7ca26f6a1be2ed424606804b0fbcf499f712/astor-0.6.2-py2.py3-none-any.whl\n",
      "Collecting tensorboard<1.9.0,>=1.8.0 (from tensorflow==1.8.0)\n",
      "  Using cached https://files.pythonhosted.org/packages/59/a6/0ae6092b7542cfedba6b2a1c9b8dceaf278238c39484f3ba03b03f07803c/tensorboard-1.8.0-py3-none-any.whl\n",
      "Collecting gast>=0.2.0 (from tensorflow==1.8.0)\n",
      "Collecting termcolor>=1.1.0 (from tensorflow==1.8.0)\n",
      "Collecting grpcio>=1.8.6 (from tensorflow==1.8.0)\n",
      "  Using cached https://files.pythonhosted.org/packages/2c/ff/f118147fd7a8d2d441d15e1cb7fefb2c1981586e24ef3a7d8a742535b085/grpcio-1.12.0-cp35-cp35m-manylinux1_x86_64.whl\n",
      "Collecting setuptools (from protobuf>=3.4.0->tensorflow==1.8.0)\n",
      "  Using cached https://files.pythonhosted.org/packages/8c/10/79282747f9169f21c053c562a0baa21815a8c7879be97abd930dbcf862e8/setuptools-39.1.0-py2.py3-none-any.whl\n",
      "Collecting markdown>=2.6.8 (from tensorboard<1.9.0,>=1.8.0->tensorflow==1.8.0)\n",
      "  Using cached https://files.pythonhosted.org/packages/6d/7d/488b90f470b96531a3f5788cf12a93332f543dbab13c423a5e7ce96a0493/Markdown-2.6.11-py2.py3-none-any.whl\n",
      "Collecting html5lib==0.9999999 (from tensorboard<1.9.0,>=1.8.0->tensorflow==1.8.0)\n",
      "Collecting bleach==1.5.0 (from tensorboard<1.9.0,>=1.8.0->tensorflow==1.8.0)\n",
      "  Using cached https://files.pythonhosted.org/packages/33/70/86c5fec937ea4964184d4d6c4f0b9551564f821e1c3575907639036d9b90/bleach-1.5.0-py2.py3-none-any.whl\n",
      "Collecting werkzeug>=0.11.10 (from tensorboard<1.9.0,>=1.8.0->tensorflow==1.8.0)\n",
      "  Using cached https://files.pythonhosted.org/packages/20/c4/12e3e56473e52375aa29c4764e70d1b8f3efa6682bef8d0aae04fe335243/Werkzeug-0.14.1-py2.py3-none-any.whl\n",
      "\u001b[31mazure 3.0.0 has requirement azure-datalake-store~=0.0.18, but you'll have azure-datalake-store 0.0.17 which is incompatible.\u001b[0m\n",
      "\u001b[31mazure 3.0.0 has requirement azure-graphrbac~=0.40.0, but you'll have azure-graphrbac 0.31.0 which is incompatible.\u001b[0m\n",
      "\u001b[31mazure 3.0.0 has requirement azure-servicefabric~=6.1.2.9, but you'll have azure-servicefabric 5.6.130 which is incompatible.\u001b[0m\n",
      "\u001b[31mazure-cosmosdb-table 1.0.1 has requirement azure-storage-common<0.38.0,>=0.37.1, but you'll have azure-storage-common 1.1.0 which is incompatible.\u001b[0m\n",
      "\u001b[31mazure-mgmt 2.0.0 has requirement azure-mgmt-advisor~=1.0, but you'll have azure-mgmt-advisor 0.1.0 which is incompatible.\u001b[0m\n",
      "\u001b[31mazure-mgmt 2.0.0 has requirement azure-mgmt-batch~=5.0, but you'll have azure-mgmt-batch 4.1.0 which is incompatible.\u001b[0m\n",
      "\u001b[31mazure-mgmt 2.0.0 has requirement azure-mgmt-cdn~=2.0, but you'll have azure-mgmt-cdn 0.30.2 which is incompatible.\u001b[0m\n",
      "\u001b[31mazure-mgmt 2.0.0 has requirement azure-mgmt-cognitiveservices~=2.0, but you'll have azure-mgmt-cognitiveservices 1.0.0 which is incompatible.\u001b[0m\n",
      "\u001b[31mazure-mgmt 2.0.0 has requirement azure-mgmt-consumption~=2.0, but you'll have azure-mgmt-consumption 0.1.0 which is incompatible.\u001b[0m\n",
      "\u001b[31mazure-mgmt 2.0.0 has requirement azure-mgmt-containerinstance~=0.3.1, but you'll have azure-mgmt-containerinstance 0.2.0 which is incompatible.\u001b[0m\n",
      "\u001b[31mazure-mgmt 2.0.0 has requirement azure-mgmt-containerservice~=3.0, but you'll have azure-mgmt-containerservice 2.0.0 which is incompatible.\u001b[0m\n",
      "\u001b[31mazure-mgmt 2.0.0 has requirement azure-mgmt-cosmosdb~=0.3.1, but you'll have azure-mgmt-cosmosdb 0.2.1 which is incompatible.\u001b[0m\n",
      "\u001b[31mazure-mgmt 2.0.0 has requirement azure-mgmt-datalake-analytics~=0.3.0, but you'll have azure-mgmt-datalake-analytics 0.2.0 which is incompatible.\u001b[0m\n",
      "\u001b[31mazure-mgmt 2.0.0 has requirement azure-mgmt-datalake-store~=0.3.0, but you'll have azure-mgmt-datalake-store 0.2.0 which is incompatible.\u001b[0m\n",
      "\u001b[31mazure-mgmt 2.0.0 has requirement azure-mgmt-devtestlabs~=2.1, but you'll have azure-mgmt-devtestlabs 2.0.0 which is incompatible.\u001b[0m\n",
      "\u001b[31mazure-mgmt 2.0.0 has requirement azure-mgmt-eventgrid~=0.4.0, but you'll have azure-mgmt-eventgrid 0.2.0 which is incompatible.\u001b[0m\n",
      "\u001b[31mazure-mgmt 2.0.0 has requirement azure-mgmt-monitor~=0.4.0, but you'll have azure-mgmt-monitor 0.3.0 which is incompatible.\u001b[0m\n",
      "\u001b[31mazure-mgmt 2.0.0 has requirement azure-mgmt-network~=1.7, but you'll have azure-mgmt-network 1.5.0rc3 which is incompatible.\u001b[0m\n",
      "\u001b[31mazure-mgmt 2.0.0 has requirement azure-mgmt-recoveryservices~=0.2.0, but you'll have azure-mgmt-recoveryservices 0.1.0 which is incompatible.\u001b[0m\n",
      "\u001b[31mazure-mgmt 2.0.0 has requirement azure-mgmt-redis~=5.0, but you'll have azure-mgmt-redis 4.1.0 which is incompatible.\u001b[0m\n",
      "\u001b[31mazure-mgmt 2.0.0 has requirement azure-mgmt-sql~=0.8.5, but you'll have azure-mgmt-sql 0.8.3 which is incompatible.\u001b[0m\n",
      "\u001b[31mazure-mgmt 2.0.0 has requirement azure-mgmt-storage~=1.5, but you'll have azure-mgmt-storage 1.4.0 which is incompatible.\u001b[0m\n",
      "\u001b[31mazure-batch-extensions 1.0.1 has requirement azure-storage<0.35,>=0.32, but you'll have azure-storage 0.36.0 which is incompatible.\u001b[0m\n",
      "Installing collected packages: six, absl-py, setuptools, protobuf, wheel, numpy, astor, markdown, html5lib, bleach, werkzeug, tensorboard, gast, termcolor, grpcio, tensorflow\n",
      "\u001b[31mCould not install packages due to an EnvironmentError: [Errno 1] Operation not permitted\n",
      "\u001b[0m\n"
     ]
    },
    {
     "name": "stderr",
     "output_type": "stream",
     "text": [
      "/anaconda/envs/py35/lib/python3.5/site-packages/h5py/__init__.py:36: FutureWarning: Conversion of the second argument of issubdtype from `float` to `np.floating` is deprecated. In future, it will be treated as `np.float64 == np.dtype(float).type`.\n",
      "  from ._conv import register_converters as _register_converters\n"
     ]
    }
   ],
   "source": [
    "!date\n",
    "!hostname\n",
    "!pip install --ignore-installed --upgrade tensorflow==1.8.0\n",
    "\n",
    "import tensorflow as tf\n",
    "\n",
    "import numpy as np\n",
    "\n",
    "tf.enable_eager_execution()"
   ]
  },
  {
   "cell_type": "code",
   "execution_count": 2,
   "metadata": {
    "colab": {
     "autoexec": {
      "startup": false,
      "wait_interval": 0
     }
    },
    "colab_type": "code",
    "id": "vNCKRyhQVSWO",
    "nbpresent": {
     "id": "b117f5e0-0c6b-4380-b941-6fa1a3eb674b"
    },
    "slideshow": {
     "slide_type": "slide"
    }
   },
   "outputs": [],
   "source": [
    "(train_images, train_labels), (test_images, test_labels) = tf.keras.datasets.mnist.load_data()"
   ]
  },
  {
   "cell_type": "code",
   "execution_count": 3,
   "metadata": {
    "colab": {
     "autoexec": {
      "startup": false,
      "wait_interval": 0
     }
    },
    "colab_type": "code",
    "id": "5eDlt-AnVafg",
    "nbpresent": {
     "id": "cdf0edef-dc37-4580-92f1-577590281c1c"
    }
   },
   "outputs": [],
   "source": [
    "TRAINING_SIZE = len(train_images)\n",
    "TEST_SIZE = len(test_images)\n",
    "\n",
    "train_images = np.asarray(train_images, dtype=np.float32) / 255\n",
    "\n",
    "# Convert the train images and add channels\n",
    "train_images = train_images.reshape((TRAINING_SIZE, 28, 28, 1))\n",
    "\n",
    "test_images = np.asarray(test_images, dtype=np.float32) / 255\n",
    "# Convert the train images and add channels\n",
    "test_images = test_images.reshape((TEST_SIZE, 28, 28, 1))"
   ]
  },
  {
   "cell_type": "code",
   "execution_count": 4,
   "metadata": {
    "colab": {
     "autoexec": {
      "startup": false,
      "wait_interval": 0
     }
    },
    "colab_type": "code",
    "id": "YNi4TNvlVcIB",
    "nbpresent": {
     "id": "f6761644-a0ff-4db6-8ce3-6c60c52e6454"
    },
    "slideshow": {
     "slide_type": "slide"
    }
   },
   "outputs": [],
   "source": [
    "# How many digits we are predicting from (0-9)\n",
    "LABEL_DIMENSIONS = 10\n",
    "\n",
    "train_labels  = tf.keras.utils.to_categorical(train_labels, LABEL_DIMENSIONS)\n",
    "test_labels = tf.keras.utils.to_categorical(test_labels, LABEL_DIMENSIONS)\n",
    "\n",
    "# Cast the labels to floats, needed later\n",
    "train_labels = train_labels.astype(np.float32)\n",
    "test_labels = test_labels.astype(np.float32)"
   ]
  },
  {
   "cell_type": "code",
   "execution_count": 5,
   "metadata": {
    "colab": {
     "autoexec": {
      "startup": false,
      "wait_interval": 0
     }
    },
    "colab_type": "code",
    "id": "iHaND5a6Vc-B",
    "nbpresent": {
     "id": "3e254563-7ac7-4512-bcd8-9954820881de"
    },
    "slideshow": {
     "slide_type": "slide"
    }
   },
   "outputs": [
    {
     "name": "stdout",
     "output_type": "stream",
     "text": [
      "_________________________________________________________________\n",
      "Layer (type)                 Output Shape              Param #   \n",
      "=================================================================\n",
      "conv2d_1 (Conv2D)            (None, 26, 26, 32)        320       \n",
      "_________________________________________________________________\n",
      "max_pooling2d_1 (MaxPooling2 (None, 13, 13, 32)        0         \n",
      "_________________________________________________________________\n",
      "conv2d_2 (Conv2D)            (None, 11, 11, 64)        18496     \n",
      "_________________________________________________________________\n",
      "max_pooling2d_2 (MaxPooling2 (None, 5, 5, 64)          0         \n",
      "_________________________________________________________________\n",
      "conv2d_3 (Conv2D)            (None, 3, 3, 64)          36928     \n",
      "=================================================================\n",
      "Total params: 55,744\n",
      "Trainable params: 55,744\n",
      "Non-trainable params: 0\n",
      "_________________________________________________________________\n"
     ]
    }
   ],
   "source": [
    "model = tf.keras.Sequential()\n",
    "\n",
    "model.add(tf.keras.layers.Conv2D(filters=32, kernel_size=(3, 3), activation=tf.nn.relu, input_shape=(28, 28, 1)))\n",
    "model.add(tf.keras.layers.MaxPooling2D(pool_size=(2, 2), strides=2))\n",
    "model.add(tf.keras.layers.Conv2D(filters=64, kernel_size=(3, 3), activation=tf.nn.relu))\n",
    "model.add(tf.keras.layers.MaxPooling2D(pool_size=(2, 2), strides=2))\n",
    "model.add(tf.keras.layers.Conv2D(filters=64, kernel_size=(3, 3), activation=tf.nn.relu))\n",
    "\n",
    "model.summary()"
   ]
  },
  {
   "cell_type": "code",
   "execution_count": 6,
   "metadata": {
    "colab": {
     "autoexec": {
      "startup": false,
      "wait_interval": 0
     }
    },
    "colab_type": "code",
    "id": "8EOBhY6xVd1S",
    "nbpresent": {
     "id": "aca5df60-96be-4e8f-8ede-113ab7708cd1"
    }
   },
   "outputs": [],
   "source": [
    "model.add(tf.keras.layers.Flatten())\n",
    "model.add(tf.keras.layers.Dense(64, activation=tf.nn.relu))\n",
    "model.add(tf.keras.layers.Dense(10, activation=tf.nn.softmax))"
   ]
  },
  {
   "cell_type": "code",
   "execution_count": 7,
   "metadata": {
    "colab": {
     "autoexec": {
      "startup": false,
      "wait_interval": 0
     }
    },
    "colab_type": "code",
    "id": "SVUAOoeXVfQA",
    "nbpresent": {
     "id": "0099882c-66c9-44c9-8364-d7d37556cf7b"
    },
    "slideshow": {
     "slide_type": "slide"
    }
   },
   "outputs": [
    {
     "name": "stdout",
     "output_type": "stream",
     "text": [
      "_________________________________________________________________\n",
      "Layer (type)                 Output Shape              Param #   \n",
      "=================================================================\n",
      "conv2d_1 (Conv2D)            (None, 26, 26, 32)        320       \n",
      "_________________________________________________________________\n",
      "max_pooling2d_1 (MaxPooling2 (None, 13, 13, 32)        0         \n",
      "_________________________________________________________________\n",
      "conv2d_2 (Conv2D)            (None, 11, 11, 64)        18496     \n",
      "_________________________________________________________________\n",
      "max_pooling2d_2 (MaxPooling2 (None, 5, 5, 64)          0         \n",
      "_________________________________________________________________\n",
      "conv2d_3 (Conv2D)            (None, 3, 3, 64)          36928     \n",
      "_________________________________________________________________\n",
      "flatten_1 (Flatten)          (None, 576)               0         \n",
      "_________________________________________________________________\n",
      "dense_1 (Dense)              (None, 64)                36928     \n",
      "_________________________________________________________________\n",
      "dense_2 (Dense)              (None, 10)                650       \n",
      "=================================================================\n",
      "Total params: 93,322\n",
      "Trainable params: 93,322\n",
      "Non-trainable params: 0\n",
      "_________________________________________________________________\n"
     ]
    }
   ],
   "source": [
    "optimizer = tf.train.RMSPropOptimizer(learning_rate=0.001)\n",
    "\n",
    "model.compile(loss='categorical_crossentropy',\n",
    "              optimizer=optimizer,\n",
    "              metrics=['accuracy'])\n",
    "\n",
    "model.summary()"
   ]
  },
  {
   "cell_type": "code",
   "execution_count": 8,
   "metadata": {
    "colab": {
     "autoexec": {
      "startup": false,
      "wait_interval": 0
     }
    },
    "colab_type": "code",
    "id": "8jpqP9JYVgxM",
    "nbpresent": {
     "id": "7396c378-0bda-4dd1-9adc-95c28eaf9fb4"
    },
    "slideshow": {
     "slide_type": "slide"
    }
   },
   "outputs": [],
   "source": [
    "BATCH_SIZE=128\n",
    "\n",
    "# Because tf.data may work with potentially **large** collections of data\n",
    "# we do not shuffle the entire dataset by default\n",
    "# Instead, we maintain a buffer of SHUFFLE_SIZE elements\n",
    "# and sample from there.\n",
    "SHUFFLE_SIZE = 10000 \n",
    "\n",
    "# Create the dataset\n",
    "dataset = tf.data.Dataset.from_tensor_slices((train_images, train_labels))\n",
    "dataset = dataset.shuffle(SHUFFLE_SIZE)\n",
    "dataset = dataset.batch(BATCH_SIZE)"
   ]
  },
  {
   "cell_type": "code",
   "execution_count": 9,
   "metadata": {
    "colab": {
     "autoexec": {
      "startup": false,
      "wait_interval": 0
     }
    },
    "colab_type": "code",
    "id": "jvDEbM1DVigY",
    "nbpresent": {
     "id": "5119a08d-e46e-403d-9786-aa4bad407070"
    },
    "scrolled": true,
    "slideshow": {
     "slide_type": "slide"
    }
   },
   "outputs": [
    {
     "name": "stdout",
     "output_type": "stream",
     "text": [
      "0 0.140625\n",
      "10 0.0859375\n",
      "20 0.0703125\n",
      "30 0.1015625\n",
      "40 0.1171875\n",
      "50 0.078125\n",
      "60 0.25\n",
      "70 0.3671875\n",
      "80 0.3671875\n",
      "90 0.484375\n",
      "100 0.46875\n",
      "110 0.703125\n",
      "120 0.84375\n",
      "130 0.828125\n",
      "140 0.8515625\n",
      "150 0.875\n",
      "160 0.90625\n",
      "170 0.859375\n",
      "180 0.9609375\n",
      "190 0.9140625\n",
      "200 0.9296875\n",
      "210 0.9375\n",
      "220 0.9453125\n",
      "230 0.9453125\n",
      "240 0.9453125\n",
      "250 0.9296875\n",
      "260 0.890625\n",
      "270 0.9140625\n",
      "280 0.9609375\n",
      "290 0.9453125\n",
      "300 0.9453125\n",
      "310 0.953125\n",
      "320 0.984375\n",
      "330 0.984375\n",
      "340 0.9609375\n",
      "350 1.0\n",
      "360 0.953125\n",
      "370 0.9609375\n",
      "380 0.96875\n",
      "390 0.953125\n",
      "400 0.953125\n",
      "410 0.9921875\n",
      "420 0.9375\n",
      "430 0.96875\n",
      "440 0.9609375\n",
      "450 0.9765625\n",
      "460 0.96875\n",
      "Epoch #1\t Loss: 0.068205\tAccuracy: 0.979167\n",
      "0 0.9921875\n",
      "10 0.953125\n",
      "20 0.984375\n",
      "30 0.96875\n",
      "40 0.9453125\n",
      "50 0.9609375\n",
      "60 0.96875\n",
      "70 0.953125\n",
      "80 0.984375\n",
      "90 0.9765625\n",
      "100 0.9765625\n",
      "110 0.984375\n",
      "120 0.953125\n",
      "130 0.984375\n",
      "140 0.9765625\n",
      "150 0.96875\n",
      "160 0.9921875\n",
      "170 0.9609375\n",
      "180 0.984375\n",
      "190 0.9921875\n",
      "200 0.96875\n",
      "210 1.0\n",
      "220 0.9609375\n",
      "230 0.96875\n",
      "240 0.9765625\n",
      "250 0.96875\n",
      "260 0.96875\n",
      "270 0.9921875\n",
      "280 0.984375\n",
      "290 0.984375\n",
      "300 0.9609375\n",
      "310 0.9765625\n",
      "320 0.9921875\n",
      "330 0.9609375\n",
      "340 0.9921875\n",
      "350 0.9921875\n",
      "360 0.984375\n",
      "370 1.0\n",
      "380 1.0\n",
      "390 1.0\n",
      "400 0.9921875\n",
      "410 1.0\n",
      "420 0.984375\n",
      "430 0.9921875\n",
      "440 0.984375\n",
      "450 0.984375\n",
      "460 0.984375\n",
      "Epoch #2\t Loss: 0.002104\tAccuracy: 1.000000\n",
      "0 0.9921875\n",
      "10 0.984375\n",
      "20 0.96875\n",
      "30 0.9921875\n",
      "40 0.96875\n",
      "50 0.984375\n",
      "60 0.9921875\n",
      "70 0.9765625\n",
      "80 0.9765625\n",
      "90 0.9921875\n",
      "100 0.9921875\n",
      "110 0.9921875\n",
      "120 1.0\n",
      "130 0.9921875\n",
      "140 0.9765625\n",
      "150 1.0\n",
      "160 0.9921875\n",
      "170 0.984375\n",
      "180 0.9921875\n",
      "190 0.9921875\n",
      "200 0.9921875\n",
      "210 0.9921875\n",
      "220 1.0\n",
      "230 0.984375\n",
      "240 0.984375\n",
      "250 0.9765625\n",
      "260 0.984375\n",
      "270 1.0\n",
      "280 1.0\n",
      "290 0.96875\n",
      "300 0.9921875\n",
      "310 1.0\n",
      "320 0.96875\n",
      "330 1.0\n",
      "340 0.9765625\n",
      "350 0.984375\n",
      "360 1.0\n",
      "370 0.984375\n",
      "380 0.9921875\n",
      "390 0.9765625\n",
      "400 0.9765625\n",
      "410 0.984375\n",
      "420 1.0\n",
      "430 1.0\n",
      "440 0.9921875\n",
      "450 0.9921875\n",
      "460 0.9921875\n",
      "Epoch #3\t Loss: 0.005619\tAccuracy: 1.000000\n",
      "0 1.0\n",
      "10 0.9921875\n",
      "20 0.9765625\n",
      "30 0.9921875\n",
      "40 0.9921875\n",
      "50 0.984375\n",
      "60 0.984375\n",
      "70 0.9921875\n",
      "80 1.0\n",
      "90 0.9921875\n",
      "100 0.9921875\n",
      "110 0.9921875\n",
      "120 0.984375\n",
      "130 0.9921875\n",
      "140 0.9921875\n",
      "150 0.9921875\n",
      "160 1.0\n",
      "170 0.984375\n",
      "180 0.984375\n",
      "190 0.984375\n",
      "200 0.984375\n",
      "210 1.0\n",
      "220 1.0\n",
      "230 0.9921875\n",
      "240 0.984375\n",
      "250 0.984375\n",
      "260 1.0\n",
      "270 1.0\n",
      "280 0.984375\n",
      "290 1.0\n",
      "300 0.9921875\n",
      "310 0.9921875\n",
      "320 0.984375\n",
      "330 0.9921875\n",
      "340 1.0\n",
      "350 1.0\n",
      "360 0.9921875\n",
      "370 0.9765625\n",
      "380 0.9765625\n",
      "390 1.0\n",
      "400 0.9921875\n",
      "410 1.0\n",
      "420 1.0\n",
      "430 0.984375\n",
      "440 1.0\n",
      "450 0.984375\n",
      "460 0.9921875\n",
      "Epoch #4\t Loss: 0.114572\tAccuracy: 0.989583\n",
      "0 1.0\n",
      "10 1.0\n",
      "20 0.9921875\n",
      "30 0.9921875\n",
      "40 0.9921875\n",
      "50 0.9921875\n",
      "60 1.0\n",
      "70 0.9921875\n",
      "80 1.0\n",
      "90 0.984375\n",
      "100 1.0\n",
      "110 0.9921875\n",
      "120 1.0\n",
      "130 0.9921875\n",
      "140 1.0\n",
      "150 0.9765625\n",
      "160 0.9921875\n",
      "170 0.9921875\n",
      "180 0.9921875\n",
      "190 1.0\n",
      "200 1.0\n",
      "210 0.9921875\n",
      "220 1.0\n",
      "230 0.9921875\n",
      "240 0.9921875\n",
      "250 0.9921875\n",
      "260 0.9765625\n",
      "270 0.9921875\n",
      "280 0.9921875\n",
      "290 0.9765625\n",
      "300 1.0\n",
      "310 0.9921875\n",
      "320 1.0\n",
      "330 1.0\n",
      "340 1.0\n",
      "350 0.9921875\n",
      "360 1.0\n",
      "370 1.0\n",
      "380 0.9921875\n",
      "390 1.0\n",
      "400 0.984375\n",
      "410 0.9921875\n",
      "420 1.0\n",
      "430 0.9921875\n",
      "440 1.0\n",
      "450 1.0\n",
      "460 0.984375\n",
      "Epoch #5\t Loss: 0.003175\tAccuracy: 1.000000\n"
     ]
    }
   ],
   "source": [
    "EPOCHS=5\n",
    "\n",
    "for epoch in range(EPOCHS):\n",
    "  for (batch, (images, labels)) in enumerate(dataset):\n",
    "    train_loss, train_accuracy = model.train_on_batch(images, labels)\n",
    "    \n",
    "    if batch % 10 == 0: print(batch, train_accuracy.numpy())\n",
    "  \n",
    "  # Here you can gather any metrics or adjust your training parameters\n",
    "  print('Epoch #%d\\t Loss: %.6f\\tAccuracy: %.6f' % (epoch + 1, train_loss, train_accuracy))"
   ]
  },
  {
   "cell_type": "code",
   "execution_count": 10,
   "metadata": {
    "colab": {
     "autoexec": {
      "startup": false,
      "wait_interval": 0
     }
    },
    "colab_type": "code",
    "id": "O5ddqxgdVzQP",
    "nbpresent": {
     "id": "0fa3a098-d601-4b14-9a4c-fb17e213d4d5"
    },
    "slideshow": {
     "slide_type": "slide"
    }
   },
   "outputs": [
    {
     "name": "stdout",
     "output_type": "stream",
     "text": [
      "10000/10000 [==============================] - 1s 149us/step\n",
      "\n",
      "Test Model \t\t Loss: 0.031939\tAccuracy: 0.990400\n"
     ]
    }
   ],
   "source": [
    "test_loss, test_acc = model.evaluate(test_images, test_labels)\n",
    "print('\\nTest Model \\t\\t Loss: %.6f\\tAccuracy: %.6f' % (test_loss, test_acc))"
   ]
  },
  {
   "cell_type": "code",
   "execution_count": 25,
   "metadata": {},
   "outputs": [
    {
     "name": "stdout",
     "output_type": "stream",
     "text": [
      "9\n",
      "5\n",
      "6\n",
      "3\n",
      "8\n"
     ]
    },
    {
     "data": {
      "image/png": "[encoded data removed]",
      "text/plain": [
       "<matplotlib.figure.Figure at 0x7f5f47a1cd68>"
      ]
     },
     "metadata": {},
     "output_type": "display_data"
    }
   ],
   "source": [
    "import matplotlib.pyplot as plt\n",
    "%matplotlib inline\n",
    "\n",
    "np.set_printoptions(precision=2)\n",
    "np.set_printoptions(linewidth=1000)\n",
    "\n",
    "i=0\n",
    "maxi=5\n",
    "\n",
    "f, plot = plt.subplots(maxi, sharex=True, sharey=True)\n",
    "\n",
    "for img, label in zip(test_images, test_labels):\n",
    "    if i==maxi:\n",
    "        break\n",
    "    img1 = np.expand_dims(img, axis=0)\n",
    "    if np.argmax(model.predict(img1)) != np.argmax(label):\n",
    "        img = np.reshape(img, (28,28))\n",
    "        print(np.argmax(label))\n",
    "        plot[i].imshow(img, cmap=\"Greys\")\n",
    "        i+=1"
   ]
  },
  {
   "cell_type": "code",
   "execution_count": null,
   "metadata": {},
   "outputs": [],
   "source": []
  }
 ],
 "metadata": {
  "colab": {
   "default_view": {},
   "name": "5-conv-draft.ipynb",
   "provenance": [],
   "version": "0.3.2",
   "views": {}
  },
  "kernelspec": {
   "display_name": "Python [default]",
   "language": "python",
   "name": "python3"
  },
  "language_info": {
   "codemirror_mode": {
    "name": "ipython",
    "version": 3
   },
   "file_extension": ".py",
   "mimetype": "text/x-python",
   "name": "python",
   "nbconvert_exporter": "python",
   "pygments_lexer": "ipython3",
   "version": "3.5.4"
  }
 },
 "nbformat": 4,
 "nbformat_minor": 1
}
